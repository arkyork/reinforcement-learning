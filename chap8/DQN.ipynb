{
 "cells": [
  {
   "cell_type": "code",
   "execution_count": 1,
   "metadata": {},
   "outputs": [],
   "source": [
    "import gymnasium as gym\n",
    "import numpy as np\n",
    "from ExpBuffer import ExpBuffer\n",
    "from DQNAgent import DQNAgent"
   ]
  },
  {
   "cell_type": "code",
   "execution_count": 2,
   "metadata": {},
   "outputs": [
    {
     "name": "stderr",
     "output_type": "stream",
     "text": [
      "c:\\Users\\kijuh\\anaconda3\\envs\\llm\\lib\\site-packages\\gymnasium\\envs\\registration.py:512: DeprecationWarning: \u001b[33mWARN: The environment CartPole-v0 is out of date. You should consider upgrading to version `v1`.\u001b[0m\n",
      "  logger.deprecation(\n"
     ]
    },
    {
     "name": "stdout",
     "output_type": "stream",
     "text": [
      "episode :0, total reward : 10.0\n",
      "episode :10, total reward : 8.0\n",
      "episode :20, total reward : 9.0\n",
      "episode :30, total reward : 10.0\n",
      "episode :40, total reward : 11.0\n",
      "episode :50, total reward : 12.0\n",
      "episode :60, total reward : 9.0\n",
      "episode :70, total reward : 11.0\n",
      "episode :80, total reward : 10.0\n",
      "episode :90, total reward : 10.0\n",
      "episode :100, total reward : 11.0\n",
      "episode :110, total reward : 11.0\n",
      "episode :120, total reward : 9.0\n",
      "episode :130, total reward : 11.0\n",
      "episode :140, total reward : 10.0\n",
      "episode :150, total reward : 18.0\n",
      "episode :160, total reward : 10.0\n",
      "episode :170, total reward : 55.0\n",
      "episode :180, total reward : 61.0\n",
      "episode :190, total reward : 194.0\n",
      "episode :200, total reward : 183.0\n",
      "episode :210, total reward : 165.0\n",
      "episode :220, total reward : 172.0\n",
      "episode :230, total reward : 200.0\n",
      "episode :240, total reward : 200.0\n",
      "episode :250, total reward : 200.0\n",
      "episode :260, total reward : 200.0\n",
      "episode :270, total reward : 200.0\n",
      "episode :280, total reward : 200.0\n",
      "episode :290, total reward : 167.0\n"
     ]
    }
   ],
   "source": [
    "episodes = 300\n",
    "sync_interval = 20\n",
    "env = gym.make('CartPole-v0', render_mode=\"human\")\n",
    "agent = DQNAgent()\n",
    "reward_history = []\n",
    "\n",
    "for episode in range(episodes):\n",
    "    state, info = env.reset()\n",
    "    terminated = False\n",
    "    truncated = False\n",
    "    total_reward = 0\n",
    "\n",
    "    while not (terminated or truncated):\n",
    "        # 行動\n",
    "        action = agent.get_actions(state)\n",
    "\n",
    "        # 1step\n",
    "        next_state, reward, terminated, truncated, info = env.step(action)\n",
    "        goal_done = terminated or truncated        \n",
    "        \n",
    "        # 更新\n",
    "        agent.update(state, action, reward, next_state, goal_done)\n",
    "        state = next_state\n",
    "        total_reward += reward\n",
    "\n",
    "    # 同期処理\n",
    "    if episode % sync_interval == 0:\n",
    "        agent.sync_qnet()\n",
    "\n",
    "    reward_history.append(total_reward)\n",
    "    if episode % 10 == 0:\n",
    "        print(\"episode :{}, total reward : {}\".format(episode, total_reward))"
   ]
  }
 ],
 "metadata": {
  "kernelspec": {
   "display_name": "llm",
   "language": "python",
   "name": "python3"
  },
  "language_info": {
   "codemirror_mode": {
    "name": "ipython",
    "version": 3
   },
   "file_extension": ".py",
   "mimetype": "text/x-python",
   "name": "python",
   "nbconvert_exporter": "python",
   "pygments_lexer": "ipython3",
   "version": "3.10.16"
  },
  "orig_nbformat": 4
 },
 "nbformat": 4,
 "nbformat_minor": 2
}
