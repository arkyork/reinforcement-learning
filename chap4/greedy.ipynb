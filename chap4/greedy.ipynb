{
 "cells": [
  {
   "cell_type": "code",
   "execution_count": 6,
   "metadata": {},
   "outputs": [],
   "source": [
    "from GridWorld import GridWorld\n",
    "from GridWorld import argmax"
   ]
  },
  {
   "cell_type": "code",
   "execution_count": 7,
   "metadata": {},
   "outputs": [],
   "source": [
    "env = GridWorld()"
   ]
  },
  {
   "cell_type": "code",
   "execution_count": 8,
   "metadata": {},
   "outputs": [],
   "source": [
    "gamma = 0.9\n",
    "\n",
    "pi = env.greedy_itr(env,gamma)"
   ]
  },
  {
   "cell_type": "code",
   "execution_count": 9,
   "metadata": {},
   "outputs": [
    {
     "data": {
      "text/plain": [
       "{(0, 0): {0: 0, 1: 0, 2: 0, 3: 1},\n",
       " (0, 1): {0: 0, 1: 0, 2: 0, 3: 1},\n",
       " (0, 2): {0: 0, 1: 0, 2: 0, 3: 1},\n",
       " (0, 3): {0: 1, 1: 0, 2: 0, 3: 0},\n",
       " (1, 0): {0: 1, 1: 0, 2: 0, 3: 0},\n",
       " (1, 1): {0: 1, 1: 0, 2: 0, 3: 0},\n",
       " (1, 2): {0: 1, 1: 0, 2: 0, 3: 0},\n",
       " (1, 3): {0: 1, 1: 0, 2: 0, 3: 0},\n",
       " (2, 0): {0: 1, 1: 0, 2: 0, 3: 0},\n",
       " (2, 1): {0: 0, 1: 0, 2: 0, 3: 1},\n",
       " (2, 2): {0: 1, 1: 0, 2: 0, 3: 0},\n",
       " (2, 3): {0: 0, 1: 0, 2: 1, 3: 0}}"
      ]
     },
     "execution_count": 9,
     "metadata": {},
     "output_type": "execute_result"
    }
   ],
   "source": [
    "pi"
   ]
  },
  {
   "cell_type": "code",
   "execution_count": 11,
   "metadata": {},
   "outputs": [],
   "source": [
    "action_command = {\n",
    "    0: \"↑\",   # up\n",
    "    1: \"↓\",   # down\n",
    "    2: \"←\",   # left\n",
    "    3: \"→\"    # right\n",
    "}\n"
   ]
  },
  {
   "cell_type": "code",
   "execution_count": 16,
   "metadata": {},
   "outputs": [
    {
     "name": "stdout",
     "output_type": "stream",
     "text": [
      "→ → → ↑ \n",
      "↑ ↑ ↑ ↑ \n",
      "↑ → ↑ ← \n"
     ]
    }
   ],
   "source": [
    "count = 0\n",
    "for pos,p in pi.items():\n",
    "    count += 1\n",
    "    print(action_command[argmax(p)],end=\" \")\n",
    "    if count % 4 == 0:\n",
    "        print()"
   ]
  },
  {
   "cell_type": "code",
   "execution_count": null,
   "metadata": {},
   "outputs": [],
   "source": []
  },
  {
   "cell_type": "code",
   "execution_count": null,
   "metadata": {},
   "outputs": [],
   "source": []
  }
 ],
 "metadata": {
  "kernelspec": {
   "display_name": "llm",
   "language": "python",
   "name": "python3"
  },
  "language_info": {
   "codemirror_mode": {
    "name": "ipython",
    "version": 3
   },
   "file_extension": ".py",
   "mimetype": "text/x-python",
   "name": "python",
   "nbconvert_exporter": "python",
   "pygments_lexer": "ipython3",
   "version": "3.10.16"
  },
  "orig_nbformat": 4
 },
 "nbformat": 4,
 "nbformat_minor": 2
}
